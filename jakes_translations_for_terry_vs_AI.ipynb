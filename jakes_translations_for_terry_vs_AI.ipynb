{
 "cells": [
  {
   "cell_type": "code",
   "execution_count": 1,
   "metadata": {},
   "outputs": [],
   "source": [
    "import numpy as np \n",
    "\n",
    "from itertools import product\n",
    "\n",
    "from strawberryfields.decompositions import takagi \n",
    "from thewalrus.symplectic import squeezing, passive_transformation\n",
    "\n",
    "from thewalrus.quantum import Amat, state_vector"
   ]
  },
  {
   "cell_type": "markdown",
   "metadata": {},
   "source": [
    "### Turning PYTHEUS HALO graphs into a Terry friendly format\n",
    "and expressing their state in the Fock basis"
   ]
  },
  {
   "cell_type": "code",
   "execution_count": 2,
   "metadata": {},
   "outputs": [],
   "source": [
    "# first write down the graphs weighted adjacency matrix (I did this by hand)\n",
    "\n",
    "B = 0.3 * np.array([    # weight of 0.3 was found through coarse hand optimisation of success probability\n",
    "    [0,0,0,-1,1,0,0,0],\n",
    "    [0,0,1,0,0,0,0,0,],\n",
    "    [0,1,0,1,1,0,0,0],\n",
    "    [-1,0,1,0,0,1,0,1],\n",
    "    [1,0,1,0,0,1,0,-1],\n",
    "    [0,0,0,1,1,0,1,0],\n",
    "    [0,0,0,0,0,1,0,0],\n",
    "    [0,0,0,1,-1,0,0,0]\n",
    "])"
   ]
  },
  {
   "cell_type": "markdown",
   "metadata": {},
   "source": [
    "We could jump straight to the Fock basis expression from the adjacency matrix by using results from Gaussian quantum optics e.g. eq. 66 of https://arxiv.org/abs/2209.06069 or eq. 105 of https://arxiv.org/abs/1811.09597. \n",
    "\n",
    "However, for convienience, we will define the states covariance matrix first which let's use leverage some open source tools.\n"
   ]
  },
  {
   "cell_type": "code",
   "execution_count": 3,
   "metadata": {},
   "outputs": [
    {
     "name": "stderr",
     "output_type": "stream",
     "text": [
      "/Users/jbulmer/mambaforge/envs/mess/lib/python3.10/site-packages/numpy/linalg/linalg.py:2146: RuntimeWarning: divide by zero encountered in det\n",
      "/Users/jbulmer/mambaforge/envs/mess/lib/python3.10/site-packages/numpy/linalg/linalg.py:2146: RuntimeWarning: invalid value encountered in det\n",
      "OMP: Info #276: omp_set_nested routine deprecated, please use omp_set_max_active_levels instead.\n",
      "/Users/jbulmer/mambaforge/envs/mess/lib/python3.10/site-packages/numpy/linalg/linalg.py:2146: RuntimeWarning: divide by zero encountered in det\n",
      "/Users/jbulmer/mambaforge/envs/mess/lib/python3.10/site-packages/numpy/linalg/linalg.py:2146: RuntimeWarning: invalid value encountered in det\n"
     ]
    }
   ],
   "source": [
    "# decompose the matrix into squeezing parameters and a linear optical unitary\n",
    "tanhr, U = takagi(B) \n",
    "sq = -np.arctanh(tanhr)\n",
    "\n",
    "# calculate covariance matrix after squeezing\n",
    "S = squeezing(sq)\n",
    "cov = S @ S.T \n",
    "\n",
    "# calculate covariance matrix after linear optical unitary\n",
    "mu = np.zeros(16)\n",
    "mu, cov = passive_transformation(mu, cov, U)\n",
    "\n",
    "# express state in the Fock basis, after heralding on 1 photon in modes 2,3,4,5 (counting from 0)\n",
    "cutoff=5\n",
    "ket = state_vector(mu, cov, post_select={2:1,3:1,4:1,5:1}, cutoff=cutoff)"
   ]
  },
  {
   "cell_type": "code",
   "execution_count": 4,
   "metadata": {},
   "outputs": [
    {
     "name": "stdout",
     "output_type": "stream",
     "text": [
      "(0.1018742754575462+0j) * |0, 0, 0, 0>\n",
      "(-0.006483239190404748+0j) * |0, 1, 1, 2>\n",
      "(0.009168684791179169+0j) * |1, 1, 1, 1>\n",
      "(-0.006483239190404751+0j) * |2, 1, 1, 0>\n",
      "\n",
      "success probability = 0.0105464975616\n"
     ]
    }
   ],
   "source": [
    "p_succ = 0\n",
    "for term in product(range(cutoff), repeat=4):\n",
    "    amp = ket[term]\n",
    "    if abs(amp) > 1e-14:\n",
    "        print(amp, '*', f\"|{str(term)[1:-1]}>\")\n",
    "        p_succ += abs(amp)**2\n",
    "print()\n",
    "print(f'success probability = {p_succ}')"
   ]
  },
  {
   "cell_type": "markdown",
   "metadata": {},
   "source": [
    "Terry is too ~~stuborn~~ ~~old~~ cool to use python, so we export the squeezing and unitary as a matlab file"
   ]
  },
  {
   "cell_type": "code",
   "execution_count": 5,
   "metadata": {},
   "outputs": [],
   "source": [
    "from scipy.io import savemat, loadmat\n",
    "\n",
    "savemat('squeezing_and_unitary.mat', \n",
    "    {\"r\" : sq, \"U\" : U})"
   ]
  },
  {
   "cell_type": "code",
   "execution_count": null,
   "metadata": {},
   "outputs": [],
   "source": []
  }
 ],
 "metadata": {
  "kernelspec": {
   "display_name": "Python 3.10.5 ('mess')",
   "language": "python",
   "name": "python3"
  },
  "language_info": {
   "codemirror_mode": {
    "name": "ipython",
    "version": 3
   },
   "file_extension": ".py",
   "mimetype": "text/x-python",
   "name": "python",
   "nbconvert_exporter": "python",
   "pygments_lexer": "ipython3",
   "version": "3.10.5"
  },
  "orig_nbformat": 4,
  "vscode": {
   "interpreter": {
    "hash": "29b386b33ddebcd809536f563c2856935f2895f04d8a693131cf5b8543790928"
   }
  }
 },
 "nbformat": 4,
 "nbformat_minor": 2
}
